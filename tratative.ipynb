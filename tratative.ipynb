{
 "cells": [
  {
   "cell_type": "code",
   "execution_count": 1,
   "metadata": {},
   "outputs": [],
   "source": [
    "import pandas as pd\n",
    "from random import randint"
   ]
  },
  {
   "cell_type": "code",
   "execution_count": 2,
   "metadata": {},
   "outputs": [],
   "source": [
    "turma = pd.read_csv(\"dados/turma.csv\")\n",
    "aux_1 = turma[turma.id_semestre == 8].copy(deep=True)\n",
    "aux_2 = turma[turma.id_semestre == 8].copy(deep=True)\n",
    "aux_3 = turma[turma.id_semestre == 8].copy(deep=True)\n",
    "aux_4 = turma[turma.id_semestre == 8].copy(deep=True)\n",
    "\n",
    "aux_1.id_semestre = 7\n",
    "aux_2.id_semestre = 6\n",
    "aux_3.id_semestre = 5\n",
    "aux_4.id_semestre = 4\n",
    "turma = turma[turma.id_semestre == 8]\n",
    "\n",
    "turma = pd.concat([turma, aux_1, aux_2, aux_3, aux_4], axis=0).sort_values(by=['id_disciplina', 'id_semestre', 'turma']).reset_index(drop=True)\n",
    "turma.id = [i for i in range(1, turma.shape[0]+1)]\n",
    "#turma[turma.id_semestre == 8]\n",
    "turma.to_csv(\"dados/turma.csv\", index=False)"
   ]
  },
  {
   "cell_type": "code",
   "execution_count": 3,
   "metadata": {},
   "outputs": [],
   "source": [
    "aula = pd.DataFrame({'id_turma': [i for i in range(1, turma.shape[0]+1)], \n",
    "                     'id_tipo_aula': [1 for i in range(1, turma.shape[0]+1)]})\n",
    "aula_1 = aula.copy(deep=True)\n",
    "aula_1.id_tipo_aula = 2\n",
    "aula = pd.concat([aula, aula_1]).sort_values(by=['id_turma', 'id_tipo_aula'])\n",
    "aula['id'] = [i for i in range(1, aula.shape[0]+1)]\n",
    "aula = aula[['id', 'id_turma', 'id_tipo_aula']]\n",
    "aula = aula.reset_index(drop=True)\n",
    "aula.to_csv(\"dados/aulas.csv\", index=False)\n",
    "\n",
    "doc_indicado = pd.read_csv(\"dados/docentes_indicados.csv\")\n",
    "doc_indicado = doc_indicado[doc_indicado.id_aula >= 125]\n",
    "doc_indicado = pd.concat([doc_indicado, doc_indicado, doc_indicado, doc_indicado, doc_indicado]).reset_index(drop=True)\n",
    "doc_indicado.id_aula = [i for i in range(1, doc_indicado.shape[0]+1)]\n",
    "doc_indicado.to_csv(\"dados/docentes_indicados.csv\", index=False)"
   ]
  },
  {
   "cell_type": "code",
   "execution_count": 4,
   "metadata": {},
   "outputs": [],
   "source": [
    "id_doc_interessado = []\n",
    "id_aula = []\n",
    "\n",
    "for i in range(1, aula.shape[0]+1, 2):\n",
    "    qtd_interessados = randint(1, 4)\n",
    "    \n",
    "    for j in range(qtd_interessados):\n",
    "        doc_sorteado = randint(3, 27)\n",
    "        id_aula.append(i)\n",
    "        id_aula.append(i+1)\n",
    "        id_doc_interessado.append(doc_sorteado)\n",
    "        id_doc_interessado.append(doc_sorteado)\n",
    "        \n",
    "doc_interessado = pd.DataFrame({'id_aula': id_aula, 'id_docente': id_doc_interessado})\n",
    "doc_interessado.to_csv(\"dados/docentes_interessados.csv\", index=False)"
   ]
  }
 ],
 "metadata": {
  "kernelspec": {
   "display_name": "base",
   "language": "python",
   "name": "python3"
  },
  "language_info": {
   "codemirror_mode": {
    "name": "ipython",
    "version": 3
   },
   "file_extension": ".py",
   "mimetype": "text/x-python",
   "name": "python",
   "nbconvert_exporter": "python",
   "pygments_lexer": "ipython3",
   "version": "3.9.7"
  },
  "orig_nbformat": 4,
  "vscode": {
   "interpreter": {
    "hash": "ad1f547ca6bde2efe7e9b59d2fcba9fd38de7525bea4d95dd49cfbf16810227f"
   }
  }
 },
 "nbformat": 4,
 "nbformat_minor": 2
}
